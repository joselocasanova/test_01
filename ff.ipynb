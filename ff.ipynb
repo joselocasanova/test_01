{
 "cells": [
  {
   "cell_type": "code",
   "execution_count": 1,
   "id": "59dff478-dddd-4a4d-a106-18eccf4df15f",
   "metadata": {
    "tags": []
   },
   "outputs": [],
   "source": [
    "x = 4\n",
    "y = 1"
   ]
  },
  {
   "cell_type": "code",
   "execution_count": 2,
   "id": "72c0cfe7-886d-4dea-8f3f-6b79bda961fc",
   "metadata": {
    "tags": []
   },
   "outputs": [
    {
     "name": "stdout",
     "output_type": "stream",
     "text": [
      "5\n"
     ]
    }
   ],
   "source": [
    "print(x + y)"
   ]
  },
  {
   "cell_type": "code",
   "execution_count": null,
   "id": "e6bb5eeb-7cbd-4cd4-8b0b-79b36328135e",
   "metadata": {},
   "outputs": [],
   "source": []
  },
  {
   "cell_type": "code",
   "execution_count": null,
   "id": "2cd6a8b4-0628-4cbd-8b64-7d2cdca82e8c",
   "metadata": {},
   "outputs": [],
   "source": []
  },
  {
   "cell_type": "code",
   "execution_count": null,
   "id": "13698fc9-1b55-43e9-ac5c-5e4f5dbb4bdf",
   "metadata": {},
   "outputs": [],
   "source": []
  }
 ],
 "metadata": {
  "kernelspec": {
   "display_name": "Python 3 (ipykernel)",
   "language": "python",
   "name": "python3"
  },
  "language_info": {
   "codemirror_mode": {
    "name": "ipython",
    "version": 3
   },
   "file_extension": ".py",
   "mimetype": "text/x-python",
   "name": "python",
   "nbconvert_exporter": "python",
   "pygments_lexer": "ipython3",
   "version": "3.11.5"
  }
 },
 "nbformat": 4,
 "nbformat_minor": 5
}
